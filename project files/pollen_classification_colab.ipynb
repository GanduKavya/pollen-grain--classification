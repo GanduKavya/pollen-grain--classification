{
  "nbformat": 4,
  "nbformat_minor": 0,
  "metadata": {
    "colab": {
      "provenance": [],
      "toc_visible": true
    },
    "kernelspec": {
      "name": "python3",
      "display_name": "Python 3"
    },
    "language_info": {
      "name": "python"
    }
  },
  "cells": [
    {
      "cell_type": "code",
      "execution_count": 13,
      "metadata": {
        "colab": {
          "base_uri": "https://localhost:8080/",
          "height": 73
        },
        "id": "8tr5P26hXX5z",
        "outputId": "c2fc9050-dc81-4fc2-cf5e-0f43835f55a7"
      },
      "outputs": [
        {
          "output_type": "display_data",
          "data": {
            "text/plain": [
              "<IPython.core.display.HTML object>"
            ],
            "text/html": [
              "\n",
              "     <input type=\"file\" id=\"files-cbde2859-2e11-46ad-8e1d-5fac37df184f\" name=\"files[]\" multiple disabled\n",
              "        style=\"border:none\" />\n",
              "     <output id=\"result-cbde2859-2e11-46ad-8e1d-5fac37df184f\">\n",
              "      Upload widget is only available when the cell has been executed in the\n",
              "      current browser session. Please rerun this cell to enable.\n",
              "      </output>\n",
              "      <script>// Copyright 2017 Google LLC\n",
              "//\n",
              "// Licensed under the Apache License, Version 2.0 (the \"License\");\n",
              "// you may not use this file except in compliance with the License.\n",
              "// You may obtain a copy of the License at\n",
              "//\n",
              "//      http://www.apache.org/licenses/LICENSE-2.0\n",
              "//\n",
              "// Unless required by applicable law or agreed to in writing, software\n",
              "// distributed under the License is distributed on an \"AS IS\" BASIS,\n",
              "// WITHOUT WARRANTIES OR CONDITIONS OF ANY KIND, either express or implied.\n",
              "// See the License for the specific language governing permissions and\n",
              "// limitations under the License.\n",
              "\n",
              "/**\n",
              " * @fileoverview Helpers for google.colab Python module.\n",
              " */\n",
              "(function(scope) {\n",
              "function span(text, styleAttributes = {}) {\n",
              "  const element = document.createElement('span');\n",
              "  element.textContent = text;\n",
              "  for (const key of Object.keys(styleAttributes)) {\n",
              "    element.style[key] = styleAttributes[key];\n",
              "  }\n",
              "  return element;\n",
              "}\n",
              "\n",
              "// Max number of bytes which will be uploaded at a time.\n",
              "const MAX_PAYLOAD_SIZE = 100 * 1024;\n",
              "\n",
              "function _uploadFiles(inputId, outputId) {\n",
              "  const steps = uploadFilesStep(inputId, outputId);\n",
              "  const outputElement = document.getElementById(outputId);\n",
              "  // Cache steps on the outputElement to make it available for the next call\n",
              "  // to uploadFilesContinue from Python.\n",
              "  outputElement.steps = steps;\n",
              "\n",
              "  return _uploadFilesContinue(outputId);\n",
              "}\n",
              "\n",
              "// This is roughly an async generator (not supported in the browser yet),\n",
              "// where there are multiple asynchronous steps and the Python side is going\n",
              "// to poll for completion of each step.\n",
              "// This uses a Promise to block the python side on completion of each step,\n",
              "// then passes the result of the previous step as the input to the next step.\n",
              "function _uploadFilesContinue(outputId) {\n",
              "  const outputElement = document.getElementById(outputId);\n",
              "  const steps = outputElement.steps;\n",
              "\n",
              "  const next = steps.next(outputElement.lastPromiseValue);\n",
              "  return Promise.resolve(next.value.promise).then((value) => {\n",
              "    // Cache the last promise value to make it available to the next\n",
              "    // step of the generator.\n",
              "    outputElement.lastPromiseValue = value;\n",
              "    return next.value.response;\n",
              "  });\n",
              "}\n",
              "\n",
              "/**\n",
              " * Generator function which is called between each async step of the upload\n",
              " * process.\n",
              " * @param {string} inputId Element ID of the input file picker element.\n",
              " * @param {string} outputId Element ID of the output display.\n",
              " * @return {!Iterable<!Object>} Iterable of next steps.\n",
              " */\n",
              "function* uploadFilesStep(inputId, outputId) {\n",
              "  const inputElement = document.getElementById(inputId);\n",
              "  inputElement.disabled = false;\n",
              "\n",
              "  const outputElement = document.getElementById(outputId);\n",
              "  outputElement.innerHTML = '';\n",
              "\n",
              "  const pickedPromise = new Promise((resolve) => {\n",
              "    inputElement.addEventListener('change', (e) => {\n",
              "      resolve(e.target.files);\n",
              "    });\n",
              "  });\n",
              "\n",
              "  const cancel = document.createElement('button');\n",
              "  inputElement.parentElement.appendChild(cancel);\n",
              "  cancel.textContent = 'Cancel upload';\n",
              "  const cancelPromise = new Promise((resolve) => {\n",
              "    cancel.onclick = () => {\n",
              "      resolve(null);\n",
              "    };\n",
              "  });\n",
              "\n",
              "  // Wait for the user to pick the files.\n",
              "  const files = yield {\n",
              "    promise: Promise.race([pickedPromise, cancelPromise]),\n",
              "    response: {\n",
              "      action: 'starting',\n",
              "    }\n",
              "  };\n",
              "\n",
              "  cancel.remove();\n",
              "\n",
              "  // Disable the input element since further picks are not allowed.\n",
              "  inputElement.disabled = true;\n",
              "\n",
              "  if (!files) {\n",
              "    return {\n",
              "      response: {\n",
              "        action: 'complete',\n",
              "      }\n",
              "    };\n",
              "  }\n",
              "\n",
              "  for (const file of files) {\n",
              "    const li = document.createElement('li');\n",
              "    li.append(span(file.name, {fontWeight: 'bold'}));\n",
              "    li.append(span(\n",
              "        `(${file.type || 'n/a'}) - ${file.size} bytes, ` +\n",
              "        `last modified: ${\n",
              "            file.lastModifiedDate ? file.lastModifiedDate.toLocaleDateString() :\n",
              "                                    'n/a'} - `));\n",
              "    const percent = span('0% done');\n",
              "    li.appendChild(percent);\n",
              "\n",
              "    outputElement.appendChild(li);\n",
              "\n",
              "    const fileDataPromise = new Promise((resolve) => {\n",
              "      const reader = new FileReader();\n",
              "      reader.onload = (e) => {\n",
              "        resolve(e.target.result);\n",
              "      };\n",
              "      reader.readAsArrayBuffer(file);\n",
              "    });\n",
              "    // Wait for the data to be ready.\n",
              "    let fileData = yield {\n",
              "      promise: fileDataPromise,\n",
              "      response: {\n",
              "        action: 'continue',\n",
              "      }\n",
              "    };\n",
              "\n",
              "    // Use a chunked sending to avoid message size limits. See b/62115660.\n",
              "    let position = 0;\n",
              "    do {\n",
              "      const length = Math.min(fileData.byteLength - position, MAX_PAYLOAD_SIZE);\n",
              "      const chunk = new Uint8Array(fileData, position, length);\n",
              "      position += length;\n",
              "\n",
              "      const base64 = btoa(String.fromCharCode.apply(null, chunk));\n",
              "      yield {\n",
              "        response: {\n",
              "          action: 'append',\n",
              "          file: file.name,\n",
              "          data: base64,\n",
              "        },\n",
              "      };\n",
              "\n",
              "      let percentDone = fileData.byteLength === 0 ?\n",
              "          100 :\n",
              "          Math.round((position / fileData.byteLength) * 100);\n",
              "      percent.textContent = `${percentDone}% done`;\n",
              "\n",
              "    } while (position < fileData.byteLength);\n",
              "  }\n",
              "\n",
              "  // All done.\n",
              "  yield {\n",
              "    response: {\n",
              "      action: 'complete',\n",
              "    }\n",
              "  };\n",
              "}\n",
              "\n",
              "scope.google = scope.google || {};\n",
              "scope.google.colab = scope.google.colab || {};\n",
              "scope.google.colab._files = {\n",
              "  _uploadFiles,\n",
              "  _uploadFilesContinue,\n",
              "};\n",
              "})(self);\n",
              "</script> "
            ]
          },
          "metadata": {}
        },
        {
          "output_type": "stream",
          "name": "stdout",
          "text": [
            "Saving pollen-data-set.zip to pollen-data-set (1).zip\n"
          ]
        }
      ],
      "source": [
        "from google.colab import files\n",
        "uploaded = files.upload()"
      ]
    },
    {
      "cell_type": "code",
      "source": [
        "import zipfile\n",
        "import os\n",
        "\n",
        "zip_path = \"pollen-data-set.zip\"\n",
        "extract_dir = \"MyDrive/content/pollen_dataset\"\n",
        "\n",
        "with zipfile.ZipFile(zip_path, 'r') as zip_ref:\n",
        "    zip_ref.extractall(extract_dir)\n",
        "\n",
        "print(\"Extracted to:\", extract_dir)"
      ],
      "metadata": {
        "colab": {
          "base_uri": "https://localhost:8080/"
        },
        "id": "nvPfyy-wfM_o",
        "outputId": "e435d8da-4600-4044-dfff-7ddc8f638a18"
      },
      "execution_count": 14,
      "outputs": [
        {
          "output_type": "stream",
          "name": "stdout",
          "text": [
            "Extracted to: MyDrive/content/pollen_dataset\n"
          ]
        }
      ]
    },
    {
      "cell_type": "code",
      "source": [
        "import os\n",
        "\n",
        "categories = os.listdir(extract_dir)\n",
        "print(\"Classes:\", categories)"
      ],
      "metadata": {
        "colab": {
          "base_uri": "https://localhost:8080/"
        },
        "id": "G-pa8ebwg7Za",
        "outputId": "bc91913b-7397-4c73-ea00-5d3ba50c8903"
      },
      "execution_count": 15,
      "outputs": [
        {
          "output_type": "stream",
          "name": "stdout",
          "text": [
            "Classes: ['matayba_08.jpg', 'urochloa (25).jpg', 'syagrus_07.jpg', 'croton_15.jpg', 'dipteryx_12.jpg', 'matayba_03.jpg', 'cecropia_21.jpg', 'serjania_16.jpg', 'myrcia_17.jpg', 'arrabidaea_18.jpg', 'anadenanthera_16.jpg', 'mimosa_03.jpg', 'cecropia_31.jpg', 'urochloa (6).jpg', 'protium_03.jpg', 'eucalipto_01.jpg', 'chromolaena_15.jpg', 'matayba_04.jpg', 'eucalipto_05.jpg', 'eucalipto_17.jpg', 'mimosa_04.jpg', 'myrcia_14.jpg', 'cecropia_15.jpg', 'hyptis_21.jpg', 'myrcia_12.jpg', 'mabea_13.jpg', 'matayba_01.jpg', 'mabea_30.jpg', 'faramea_02.jpg', 'syagrus_04.jpg', 'mimosa_16.jpg', 'syagrus_20.jpg', 'hyptis_19.jpg', 'syagrus_35.jpg', 'senegalia (31).jpg', 'faramea_03.jpg', 'combretum_23.jpg', 'anadenanthera_30.jpg', 'arrabidaea_24.jpg', 'hyptis_07.jpg', 'faramea_29.jpg', 'protium_28.jpg', 'faramea_04.jpg', 'protium_25.jpg', 'matayba_05.jpg', 'faramea_23.jpg', 'matayba_15.jpg', 'qualea_35.jpg', 'myrcia_13.jpg', 'matayba_21.jpg', 'protium_16.jpg', 'senegalia (32).jpg', 'mabea_35.jpg', 'protium_19.jpg', 'cecropia_01.jpg', 'arrabidaea_32.jpg', 'senegalia (33).jpg', 'anadenanthera_19.jpg', 'eucalipto_14.jpg', 'matayba_25.jpg', 'protium_06.jpg', 'urochloa (35).jpg', 'schinus_20.jpg', 'senegalia (35).jpg', 'mabea_29.jpg', 'urochloa (17).jpg', 'eucalipto_03.jpg', 'matayba_17.jpg', 'arecaceae_04.jpg', 'qualea_34.jpg', 'mimosa_15.jpg', 'mimosa_33.jpg', 'hyptis_23.jpg', 'senegalia (24).jpg', 'croton_08.jpg', 'cecropia_09.jpg', 'eucalipto_22.jpg', 'arecaceae_21.jpg', 'qualea_17.jpg', 'syagrus_31.jpg', 'mimosa_06.jpg', 'arrabidaea_03.jpg', 'arrabidaea_27.jpg', 'combretum_32.jpg', 'schinus_33.jpg', 'syagrus_08.jpg', 'qualea_15.jpg', 'senegalia (2).jpg', 'serjania_13.jpg', 'qualea_06.jpg', 'faramea_33.jpg', 'senegalia (29).jpg', 'serjania_08.jpg', 'dipteryx_19.jpg', 'matayba_19.jpg', 'qualea_09.jpg', 'tridax_32.jpg', 'chromolaena_24.jpg', 'eucalipto_27.jpg', 'myrcia_24.jpg', 'dipteryx_32.jpg', 'arrabidaea_30.jpg', 'urochloa (23).jpg', 'senegalia (12).jpg', 'chromolaena_28.jpg', 'croton_11.jpg', 'mimosa_10.jpg', 'combretum_02.jpg', 'arecaceae_17.jpg', 'arecaceae_08.jpg', 'senegalia (7).jpg', 'syagrus_34.jpg', 'faramea_05.jpg', 'cecropia_32.jpg', 'eucalipto_28.jpg', 'matayba_11.jpg', 'urochloa (1).jpg', 'urochloa (2).jpg', 'urochloa (16).jpg', 'anadenanthera_31.jpg', 'croton_05.jpg', 'mimosa_02.jpg', 'croton_32.jpg', 'schinus_19.jpg', 'urochloa (33).jpg', 'chromolaena_11.jpg', 'syagrus_09.jpg', 'serjania_31.jpg', 'chromolaena_19.jpg', 'chromolaena_21.jpg', 'matayba_28.jpg', 'hyptis_16.jpg', 'senegalia (5).jpg', 'arrabidaea_20.jpg', 'urochloa (29).jpg', 'syagrus_19.jpg', 'schinus_12.jpg', 'syagrus_06.jpg', 'serjania_07.jpg', 'schinus_30.jpg', 'eucalipto_26.jpg', 'mabea_31.jpg', 'dipteryx_11.jpg', 'syagrus_32.jpg', 'syagrus_29.jpg', 'mabea_17.jpg', 'hyptis_24.jpg', 'qualea_28.jpg', 'schinus_34.jpg', 'protium_20.jpg', 'croton_04.jpg', 'faramea_07.jpg', 'schinus_18.jpg', 'cecropia_11.jpg', 'tridax_03.jpg', 'cecropia_35.jpg', 'faramea_19.jpg', 'qualea_20.jpg', 'matayba_35.jpg', 'qualea_27.jpg', 'hyptis_26.jpg', 'croton_13.jpg', 'serjania_19.jpg', 'protium_32.jpg', 'qualea_23.jpg', 'Pollen dataset from Santa Catarina, south Brazil', 'chromolaena_23.jpg', 'qualea_10.jpg', 'senegalia (9).jpg', 'myrcia_06.jpg', 'arecaceae_13.jpg', 'senegalia (6).jpg', 'combretum_13.jpg', 'eucalipto_33.jpg', 'schinus_32.jpg', 'combretum_26.jpg', 'arecaceae_35.jpg', 'serjania_12.jpg', 'schinus_28.jpg', 'cecropia_20.jpg', 'serjania_21.jpg', 'tridax_20.jpg', 'tridax_09.jpg', 'urochloa (12).jpg', 'arecaceae_22.jpg', 'mabea_18.jpg', 'eucalipto_08.jpg', 'anadenanthera_22.jpg', 'mimosa_05.jpg', 'matayba_29.jpg', 'eucalipto_19.jpg', 'faramea_18.jpg', 'urochloa (3).jpg', 'cecropia_30.jpg', 'combretum_31.jpg', 'qualea_12.jpg', 'urochloa (11).jpg', 'tridax_17.jpg', 'eucalipto_35.jpg', 'anadenanthera_26.jpg', 'croton_09.jpg', 'tridax_31.jpg', 'protium_22.jpg', 'croton_31.jpg', 'serjania_20.jpg', 'urochloa (21).jpg', 'croton_22.jpg', 'combretum_30.jpg', 'qualea_05.jpg', 'myrcia_22.jpg', 'serjania_01.jpg', 'syagrus_15.jpg', 'cecropia_23.jpg', 'arecaceae_10.jpg', 'schinus_29.jpg', 'hyptis_22.jpg', 'mabea_12.jpg', 'schinus_01.jpg', 'urochloa (20).jpg', 'mimosa_19.jpg', 'chromolaena_03.jpg', 'arrabidaea_14.jpg', 'arecaceae_28.jpg', 'cecropia_10.jpg', 'matayba_26.jpg', 'myrcia_33.jpg', 'dipteryx_09.jpg', 'qualea_01.jpg', 'mimosa_32.jpg', 'qualea_03.jpg', 'arrabidaea_05.jpg', 'arrabidaea_09.jpg', 'qualea_31.jpg', 'protium_23.jpg', 'senegalia (25).jpg', 'dipteryx_13.jpg', 'combretum_18.jpg', 'hyptis_28.jpg', 'schinus_27.jpg', 'protium_04.jpg', 'croton_26.jpg', 'cecropia_26.jpg', 'mabea_08.jpg', 'dipteryx_10.jpg', 'combretum_21.jpg', 'dipteryx_29.jpg', 'arecaceae_03.jpg', 'cecropia_27.jpg', 'mabea_02.jpg', 'myrcia_08.jpg', 'chromolaena_07.jpg', 'faramea_25.jpg', 'arrabidaea_12.jpg', 'hyptis_20.jpg', 'protium_07.jpg', 'anadenanthera_35.jpg', 'schinus_04.jpg', 'senegalia (27).jpg', 'combretum_11.jpg', 'senegalia (19).jpg', 'arecaceae_01.jpg', 'faramea_16.jpg', 'hyptis_27.jpg', 'urochloa (13).jpg', 'hyptis_03.jpg', 'arrabidaea_25.jpg', 'mimosa_13.jpg', 'urochloa (22).jpg', 'serjania_27.jpg', 'chromolaena_04.jpg', 'schinus_07.jpg', 'matayba_27.jpg', 'chromolaena_35.jpg', 'dipteryx_17.jpg', 'schinus_22.jpg', 'syagrus_25.jpg', 'protium_10.jpg', 'arecaceae_06.jpg', 'serjania_25.jpg', 'anadenanthera_23.jpg', 'myrcia_05.jpg', 'myrcia_21.jpg', 'myrcia_27.jpg', 'cecropia_22.jpg', 'mabea_01.jpg', 'faramea_17.jpg', 'mabea_27.jpg', 'chromolaena_31.jpg', 'tridax_35.jpg', 'mimosa_35.jpg', 'arecaceae_11.jpg', 'matayba_06.jpg', 'syagrus_30.jpg', 'mimosa_08.jpg', 'senegalia (4).jpg', 'croton_12.jpg', 'faramea_06.jpg', 'mimosa_23.jpg', 'eucalipto_07.jpg', 'myrcia_23.jpg', 'arrabidaea_06.jpg', 'matayba_12.jpg', 'protium_30.jpg', 'dipteryx_05.jpg', 'combretum_29.jpg', 'dipteryx_24.jpg', 'schinus_10.jpg', 'dipteryx_25.jpg', 'dipteryx_34.jpg', 'eucalipto_25.jpg', 'tridax_25.jpg', 'croton_25.jpg', 'urochloa (26).jpg', 'tridax_16.jpg', 'arecaceae_05.jpg', 'hyptis_09.jpg', 'eucalipto_04.jpg', 'matayba_24.jpg', 'schinus_21.jpg', 'cecropia_17.jpg', 'mabea_10.jpg', 'eucalipto_10.jpg', 'croton_18.jpg', 'chromolaena_20.jpg', 'faramea_35.jpg', 'serjania_26.jpg', 'serjania_14.jpg', 'arecaceae_12.jpg', 'combretum_25.jpg', 'dipteryx_23.jpg', 'eucalipto_12.jpg', 'syagrus_18.jpg', 'croton_34.jpg', 'arecaceae_19.jpg', 'chromolaena_26.jpg', 'combretum_20.jpg', 'dipteryx_28.jpg', 'urochloa (24).jpg', 'matayba_34.jpg', 'combretum_06.jpg', 'senegalia (15).jpg', 'cecropia_05.jpg', 'senegalia (18).jpg', 'syagrus_27.jpg', 'faramea_11.jpg', 'tridax_15.jpg', 'combretum_15.jpg', 'combretum_34.jpg', 'chromolaena_13.jpg', 'mabea_19.jpg', 'serjania_29.jpg', 'dipteryx_02.jpg', 'eucalipto_31.jpg', 'combretum_01.jpg', 'urochloa (8).jpg', 'croton_07.jpg', 'myrcia_03.jpg', 'dipteryx_21.jpg', 'arecaceae_24.jpg', 'syagrus_13.jpg', 'chromolaena_05.jpg', 'tridax_30.jpg', 'urochloa (9).jpg', 'schinus_03.jpg', 'tridax_22.jpg', 'protium_17.jpg', 'mabea_23.jpg', 'protium_01.jpg', 'cecropia_14.jpg', 'arecaceae_29.jpg', 'protium_18.jpg', 'arecaceae_09.jpg', 'croton_33.jpg', 'arecaceae_18.jpg', 'combretum_35.jpg', 'myrcia_15.jpg', 'tridax_12.jpg', 'myrcia_04.jpg', 'eucalipto_18.jpg', 'urochloa (5).jpg', 'syagrus_14.jpg', 'senegalia (34).jpg', 'eucalipto_23.jpg', 'arrabidaea_35.jpg', 'anadenanthera_18.jpg', 'syagrus_26.jpg', 'cecropia_08.jpg', 'tridax_13.jpg', 'qualea_24.jpg', 'mimosa_27.jpg', 'serjania_09.jpg', 'syagrus_28.jpg', 'tridax_26.jpg', 'qualea_32.jpg', 'faramea_31.jpg', 'hyptis_02.jpg', 'cecropia_19.jpg', 'arrabidaea_10.jpg', 'croton_17.jpg', 'mimosa_29.jpg', 'croton_35.jpg', 'faramea_24.jpg', 'chromolaena_10.jpg', 'serjania_03.jpg', 'arrabidaea_16.jpg', 'mabea_22.jpg', 'schinus_17.jpg', 'arecaceae_31.jpg', 'arecaceae_15.jpg', 'protium_15.jpg', 'arrabidaea_23.jpg', 'mimosa_24.jpg', 'protium_21.jpg', 'combretum_14.jpg', 'myrcia_31.jpg', 'faramea_20.jpg', 'croton_29.jpg', 'faramea_30.jpg', 'hyptis_25.jpg', 'hyptis_29.jpg', 'tridax_34.jpg', 'croton_24.jpg', 'mabea_34.jpg', 'eucalipto_29.jpg', 'protium_26.jpg', 'mabea_15.jpg', 'chromolaena_12.jpg', 'schinus_11.jpg', 'protium_34.jpg', 'cecropia_29.jpg', 'qualea_26.jpg', 'arrabidaea_13.jpg', 'urochloa (28).jpg', 'eucalipto_21.jpg', 'syagrus_16.jpg', 'mabea_33.jpg', 'dipteryx_22.jpg', 'chromolaena_14.jpg', 'protium_05.jpg', 'mimosa_30.jpg', 'urochloa (4).jpg', 'mabea_32.jpg', 'faramea_28.jpg', 'faramea_15.jpg', 'schinus_25.jpg', 'croton_16.jpg', 'eucalipto_30.jpg', 'mimosa_20.jpg', 'schinus_16.jpg', 'cecropia_02.jpg', 'cecropia_04.jpg', 'arrabidaea_08.jpg', 'mabea_03.jpg', 'matayba_22.jpg', 'cecropia_25.jpg', 'myrcia_09.jpg', 'serjania_32.jpg', 'tridax_04.jpg', 'arrabidaea_22.jpg', 'hyptis_10.jpg', 'urochloa (19).jpg', 'myrcia_07.jpg', 'dipteryx_30.jpg', 'urochloa (10).jpg', 'myrcia_32.jpg', 'cecropia_33.jpg', 'mimosa_34.jpg', 'tridax_29.jpg', 'syagrus_33.jpg', 'syagrus_24.jpg', 'dipteryx_33.jpg', 'arecaceae_33.jpg', 'cecropia_13.jpg', 'cecropia_34.jpg', 'combretum_19.jpg', 'mabea_24.jpg', 'dipteryx_18.jpg', 'tridax_28.jpg', 'serjania_34.jpg', 'protium_29.jpg', 'arrabidaea_11.jpg', 'hyptis_08.jpg', 'hyptis_11.jpg', 'senegalia (21).jpg', 'mimosa_09.jpg', 'serjania_15.jpg', 'hyptis_04.jpg', 'myrcia_35.jpg', 'matayba_14.jpg', 'eucalipto_13.jpg', 'anadenanthera_33.jpg', 'mabea_09.jpg', 'arecaceae_26.jpg', 'mimosa_07.jpg', 'cecropia_03.jpg', 'schinus_05.jpg', 'mabea_04.jpg', 'tridax_10.jpg', 'mimosa_14.jpg', 'schinus_31.jpg', 'tridax_18.jpg', 'dipteryx_03.jpg', 'serjania_23.jpg', 'dipteryx_14.jpg', 'eucalipto_02.jpg', 'combretum_09.jpg', 'qualea_13.jpg', 'myrcia_01.jpg', 'croton_20.jpg', 'dipteryx_31.jpg', 'urochloa (32).jpg', 'mimosa_18.jpg', 'mimosa_01.jpg', 'dipteryx_06.jpg', 'senegalia (16).jpg', 'faramea_34.jpg', 'mabea_25.jpg', 'serjania_24.jpg', 'hyptis_06.jpg', 'combretum_27.jpg', 'chromolaena_27.jpg', 'myrcia_34.jpg', 'cecropia_07.jpg', 'hyptis_33.jpg', 'eucalipto_32.jpg', 'arecaceae_32.jpg', 'mabea_11.jpg', 'arrabidaea_31.jpg', 'images', 'qualea_08.jpg', 'serjania_02.jpg', 'tridax_24.jpg', 'protium_33.jpg', 'myrcia_29.jpg', 'schinus_06.jpg', 'qualea_07.jpg', 'myrcia_26.jpg', 'qualea_16.jpg', 'anadenanthera_17.jpg', 'anadenanthera_24.jpg', 'senegalia (3).jpg', 'combretum_22.jpg', 'chromolaena_29.jpg', 'hyptis_17.jpg', 'protium_14.jpg', 'combretum_07.jpg', 'urochloa (18).jpg', 'dipteryx_27.jpg', 'mimosa_22.jpg', 'eucalipto_06.jpg', 'chromolaena_25.jpg', 'eucalipto_20.jpg', 'serjania_11.jpg', 'eucalipto_24.jpg', 'chromolaena_32.jpg', 'senegalia (14).jpg', 'serjania_33.jpg', 'serjania_28.jpg', 'myrcia_20.jpg', 'cecropia_24.jpg', 'schinus_26.jpg', 'hyptis_15.jpg', 'arrabidaea_29.jpg', 'hyptis_35.jpg', 'combretum_24.jpg', 'myrcia_11.jpg', 'croton_23.jpg', 'chromolaena_06.jpg', 'chromolaena_02.jpg', 'senegalia (20).jpg', 'faramea_14.jpg', 'chromolaena_16.jpg', 'hyptis_05.jpg', 'myrcia_18.jpg', 'combretum_05.jpg', 'schinus_08.jpg', 'bboxes.csv', 'syagrus_01.jpg', 'serjania_30.jpg', 'tridax_19.jpg', 'syagrus_21.jpg', 'dipteryx_15.jpg', 'hyptis_01.jpg', 'mabea_20.jpg', 'serjania_06.jpg', 'croton_28.jpg', 'qualea_30.jpg', 'urochloa (31).jpg', 'mabea_16.jpg', 'protium_11.jpg', 'croton_14.jpg', 'tridax_27.jpg', 'faramea_09.jpg', 'eucalipto_16.jpg', 'matayba_32.jpg', 'arrabidaea_07.jpg', 'mabea_21.jpg', 'protium_27.jpg', 'qualea_33.jpg', 'croton_10.jpg', 'mimosa_17.jpg', 'dipteryx_20.jpg', 'arecaceae_27.jpg', 'tridax_11.jpg', 'arecaceae_07.jpg', 'hyptis_12.jpg', 'tridax_07.jpg', 'dipteryx_04.jpg', 'faramea_32.jpg', 'croton_01.jpg', 'protium_09.jpg', 'hyptis_30.jpg', 'arecaceae_30.jpg', 'dipteryx_01.jpg', 'serjania_17.jpg', 'syagrus_05.jpg', 'tridax_02.jpg', 'syagrus_02.jpg', 'dipteryx_26.jpg', 'matayba_18.jpg', 'syagrus_10.jpg', 'combretum_10.jpg', 'matayba_30.jpg', 'cecropia_28.jpg', 'schinus_23.jpg', 'arrabidaea_33.jpg', 'qualea_11.jpg', 'arecaceae_16.jpg', 'matayba_02.jpg', 'qualea_19.jpg', 'urochloa (14).jpg', 'qualea_18.jpg', 'serjania_35.jpg', 'arrabidaea_15.jpg', 'mimosa_28.jpg', 'serjania_10.jpg', 'faramea_21.jpg', 'anadenanthera_29.jpg', 'faramea_10.jpg', 'arecaceae_02.jpg', 'cecropia_16.jpg', 'eucalipto_15.jpg', 'anadenanthera_32.jpg', 'tridax_14.jpg', 'arrabidaea_28.jpg', 'protium_08.jpg', 'senegalia (11).jpg', 'combretum_16.jpg', 'combretum_17.jpg', 'hyptis_18.jpg', 'chromolaena_01.jpg', 'schinus_35.jpg', 'matayba_10.jpg', 'anadenanthera_27.jpg', 'hyptis_34.jpg', 'eucalipto_09.jpg', 'croton_30.jpg', 'senegalia (1).jpg', 'qualea_21.jpg', 'protium_02.jpg', 'tridax_21.jpg', 'arrabidaea_34.jpg', 'protium_24.jpg', 'chromolaena_34.jpg', 'faramea_27.jpg', 'syagrus_11.jpg', 'dipteryx_35.jpg', 'cecropia_06.jpg', 'dipteryx_08.jpg', 'combretum_12.jpg', 'mimosa_31.jpg', 'matayba_31.jpg', 'myrcia_02.jpg', 'arecaceae_23.jpg', 'schinus_13.jpg', 'qualea_25.jpg', 'dipteryx_16.jpg', 'urochloa (15).jpg', 'matayba_09.jpg', 'tridax_06.jpg', 'hyptis_32.jpg', 'chromolaena_18.jpg', 'senegalia (10).jpg', 'eucalipto_34.jpg', 'tridax_05.jpg', 'urochloa (34).jpg', 'arrabidaea_04.jpg', 'anadenanthera_21.jpg', 'mimosa_11.jpg', 'schinus_09.jpg', 'syagrus_23.jpg', 'qualea_22.jpg', 'protium_13.jpg', 'qualea_04.jpg', 'myrcia_10.jpg', 'chromolaena_30.jpg', 'arrabidaea_02.jpg', 'senegalia (23).jpg', 'tridax_33.jpg', 'senegalia (30).jpg', 'mabea_06.jpg', 'faramea_01.jpg', 'syagrus_03.jpg', 'faramea_12.jpg', 'schinus_14.jpg', 'chromolaena_09.jpg', 'anadenanthera_20.jpg', 'protium_31.jpg', 'arecaceae_20.jpg', 'mabea_26.jpg', 'senegalia (13).jpg', 'myrcia_19.jpg', 'serjania_18.jpg', 'matayba_33.jpg', 'protium_12.jpg', 'senegalia (17).jpg', 'tridax_01.jpg', 'anadenanthera_28.jpg', 'arrabidaea_17.jpg', 'tridax_23.jpg', 'class_map.csv', 'senegalia (8).jpg', 'croton_19.jpg', 'arecaceae_34.jpg', 'arrabidaea_21.jpg', 'urochloa (30).jpg', 'mimosa_12.jpg', 'syagrus_22.jpg', 'senegalia (22).jpg', 'mimosa_26.jpg', 'anadenanthera_34.jpg', 'combretum_03.jpg', 'schinus_24.jpg', 'arecaceae_25.jpg', 'mabea_07.jpg', 'protium_35.jpg', 'chromolaena_22.jpg', 'faramea_13.jpg', 'urochloa (7).jpg', 'hyptis_13.jpg', 'urochloa (27).jpg', 'matayba_16.jpg', 'senegalia (28).jpg', 'dipteryx_07.jpg', 'combretum_33.jpg', 'croton_03.jpg', 'mabea_14.jpg', 'myrcia_28.jpg', 'qualea_29.jpg', 'faramea_26.jpg', 'croton_06.jpg', 'serjania_05.jpg', 'mabea_28.jpg', 'hyptis_14.jpg', 'eucalipto_11.jpg', 'cecropia_12.jpg', 'myrcia_30.jpg', 'chromolaena_08.jpg', 'matayba_20.jpg', 'croton_02.jpg', 'syagrus_12.jpg', 'combretum_08.jpg', 'schinus_15.jpg', 'mimosa_25.jpg', 'arecaceae_14.jpg', 'arrabidaea_19.jpg', 'arrabidaea_26.jpg', 'matayba_07.jpg', 'croton_27.jpg', 'anadenanthera_25.jpg', 'myrcia_25.jpg', 'mabea_05.jpg', 'syagrus_17.jpg', 'serjania_22.jpg', 'chromolaena_17.jpg', 'matayba_23.jpg', 'qualea_14.jpg', 'schinus_02.jpg', 'myrcia_16.jpg', 'cecropia_18.jpg', 'mimosa_21.jpg', 'faramea_08.jpg', 'combretum_28.jpg', 'croton_21.jpg', 'qualea_02.jpg', 'tridax_08.jpg', 'senegalia (26).jpg', 'arrabidaea_01.jpg', 'faramea_22.jpg', 'combretum_04.jpg', 'hyptis_31.jpg', 'matayba_13.jpg', 'serjania_04.jpg', 'chromolaena_33.jpg']\n"
          ]
        }
      ]
    },
    {
      "cell_type": "code",
      "source": [
        "import cv2\n",
        "import numpy as np\n",
        "import os\n",
        "import pandas as pd\n",
        "\n",
        "img_size = 84\n",
        "X, y = [], []\n",
        "\n",
        "images_folder = os.path.join(extract_dir, 'images')\n",
        "class_map_path = os.path.join(extract_dir, 'class_map.csv')\n",
        "\n",
        "# Read the class map without header and assign column names\n",
        "class_map_df = pd.read_csv(class_map_path, header=None, names=['class_name', 'class_id'])\n",
        "class_map = dict(zip(class_map_df['class_id'], class_map_df['class_name']))\n",
        "\n",
        "# Assuming bboxes.csv contains image filenames and their corresponding class_id\n",
        "bboxes_path = os.path.join(extract_dir, 'bboxes.csv')\n",
        "# Read bboxes.csv without header and assign column names based on inspection\n",
        "bboxes_df = pd.read_csv(bboxes_path, header=None, names=['image_filename', 'x_min', 'y_min', 'x_max', 'y_max', 'class_name'])\n",
        "\n",
        "\n",
        "# Create a dictionary mapping image filename to class_name first, then map class_name to class_id\n",
        "# Assuming 'image_filename' is the first column (index 0) and 'class_name' is the last column (index 5)\n",
        "image_class_name_map = dict(zip(bboxes_df['image_filename'], bboxes_df['class_name']))\n",
        "\n",
        "# Create a mapping from class_name to class_id from class_map_df\n",
        "class_name_to_id = dict(zip(class_map_df['class_name'], class_map_df['class_id']))\n",
        "\n",
        "if os.path.isdir(images_folder):\n",
        "    print(f\"Loading images from: {images_folder}\")\n",
        "\n",
        "    # Get the unique class IDs from the class_map_df to determine the number of classes\n",
        "    unique_class_ids = sorted(class_map_df['class_id'].unique())\n",
        "    num_classes = len(unique_class_ids)\n",
        "    print(f\"Detected {num_classes} classes.\")\n",
        "\n",
        "    for file in os.listdir(images_folder):\n",
        "        path = os.path.join(images_folder, file)\n",
        "        # Check if it's a file, not a hidden file, and if its filename exists in the bboxes_df mapping\n",
        "        if os.path.isfile(path) and not file.startswith('.') and file in image_class_name_map:\n",
        "            img = cv2.imread(path)\n",
        "            if img is not None:\n",
        "                img = cv2.resize(img, (img_size, img_size))\n",
        "                X.append(img)\n",
        "                # Get the class_name for the image\n",
        "                class_name = image_class_name_map[file]\n",
        "                # Get the corresponding class_id\n",
        "                if class_name in class_name_to_id:\n",
        "                    class_id = class_name_to_id[class_name]\n",
        "                    y.append(class_id) # Append the class_id\n",
        "                else:\n",
        "                    print(f\"Warning: Class name '{class_name}' for image '{file}' not found in class map.\")\n",
        "\n",
        "\n",
        "X = np.array(X) / 255.0\n",
        "y = np.array(y) # Convert y to a numpy array\n",
        "\n",
        "\n",
        "print(f\"Loaded {len(X)} images.\")\n",
        "print(f\"Labels generated for {len(y)} images.\")"
      ],
      "metadata": {
        "colab": {
          "base_uri": "https://localhost:8080/"
        },
        "id": "fYdncgQbhAQ-",
        "outputId": "84dd4bd2-a5ee-4132-b1ca-c49beedc09ed"
      },
      "execution_count": 16,
      "outputs": [
        {
          "output_type": "stream",
          "name": "stdout",
          "text": [
            "Loading images from: MyDrive/content/pollen_dataset/images\n",
            "Detected 20 classes.\n",
            "Loaded 2412 images.\n",
            "Labels generated for 2412 images.\n"
          ]
        }
      ]
    },
    {
      "cell_type": "code",
      "source": [
        "from sklearn.model_selection import train_test_split\n",
        "from tensorflow.keras.utils import to_categorical\n",
        "import numpy as np # Import numpy if not already imported\n",
        "\n",
        "# Ensure y is a numpy array before splitting\n",
        "y = np.array(y)\n",
        "\n",
        "# Split into training and test sets using stratified splitting\n",
        "# Use the original integer labels for stratification\n",
        "X_train, X_test, y_train, y_test = train_test_split(\n",
        "    X, y, test_size=0.2, random_state=42, stratify=y # Use stratify=y\n",
        ")\n",
        "\n",
        "# Convert labels to categorical AFTER the split\n",
        "# Assuming num_classes is defined from the data loading\n",
        "y_train = to_categorical(y_train, num_classes=num_classes)\n",
        "y_test = to_categorical(y_test, num_classes=num_classes)"
      ],
      "metadata": {
        "id": "f18oYctehap5"
      },
      "execution_count": 17,
      "outputs": []
    },
    {
      "cell_type": "code",
      "source": [
        "from tensorflow.keras.models import Sequential\n",
        "from tensorflow.keras.layers import Conv2D, MaxPooling2D, Flatten, Dense, Dropout\n",
        "# No need to import to_categorical here, as it's done after the split\n",
        "\n",
        "\n",
        "model = Sequential([\n",
        "    Conv2D(32, (3, 3), activation='relu', input_shape=(84, 84, 3)),\n",
        "    MaxPooling2D(2, 2),\n",
        "    Conv2D(64, (3, 3), activation='relu'),\n",
        "    MaxPooling2D(2, 2),\n",
        "    Flatten(),\n",
        "    Dense(128, activation='relu'),\n",
        "    Dropout(0.3),\n",
        "    Dense(num_classes, activation='softmax') # Use num_classes here\n",
        "])\n",
        "\n",
        "model.compile(optimizer='adam',\n",
        "              loss='categorical_crossentropy',\n",
        "              metrics=['accuracy'])"
      ],
      "metadata": {
        "id": "i9DgnurChhTP",
        "colab": {
          "base_uri": "https://localhost:8080/"
        },
        "outputId": "a5a0f433-a53e-4d81-c35f-bbe32ba06090"
      },
      "execution_count": 18,
      "outputs": [
        {
          "output_type": "stream",
          "name": "stderr",
          "text": [
            "/usr/local/lib/python3.11/dist-packages/keras/src/layers/convolutional/base_conv.py:107: UserWarning: Do not pass an `input_shape`/`input_dim` argument to a layer. When using Sequential models, prefer using an `Input(shape)` object as the first layer in the model instead.\n",
            "  super().__init__(activity_regularizer=activity_regularizer, **kwargs)\n"
          ]
        }
      ]
    },
    {
      "cell_type": "code",
      "source": [
        "model.fit(X_train, y_train, epochs=10, validation_data=(X_test, y_test))"
      ],
      "metadata": {
        "id": "S7LENwsHhkuv",
        "colab": {
          "base_uri": "https://localhost:8080/"
        },
        "outputId": "f42b06e0-84b5-463b-8724-ec75b5ffec0e"
      },
      "execution_count": 19,
      "outputs": [
        {
          "output_type": "stream",
          "name": "stdout",
          "text": [
            "Epoch 1/10\n",
            "\u001b[1m61/61\u001b[0m \u001b[32m━━━━━━━━━━━━━━━━━━━━\u001b[0m\u001b[37m\u001b[0m \u001b[1m23s\u001b[0m 344ms/step - accuracy: 0.1007 - loss: 3.1804 - val_accuracy: 0.3540 - val_loss: 2.2148\n",
            "Epoch 2/10\n",
            "\u001b[1m61/61\u001b[0m \u001b[32m━━━━━━━━━━━━━━━━━━━━\u001b[0m\u001b[37m\u001b[0m \u001b[1m41s\u001b[0m 351ms/step - accuracy: 0.2890 - loss: 2.2301 - val_accuracy: 0.4845 - val_loss: 1.6875\n",
            "Epoch 3/10\n",
            "\u001b[1m61/61\u001b[0m \u001b[32m━━━━━━━━━━━━━━━━━━━━\u001b[0m\u001b[37m\u001b[0m \u001b[1m41s\u001b[0m 351ms/step - accuracy: 0.4696 - loss: 1.6341 - val_accuracy: 0.5756 - val_loss: 1.3005\n",
            "Epoch 4/10\n",
            "\u001b[1m61/61\u001b[0m \u001b[32m━━━━━━━━━━━━━━━━━━━━\u001b[0m\u001b[37m\u001b[0m \u001b[1m40s\u001b[0m 332ms/step - accuracy: 0.5942 - loss: 1.2663 - val_accuracy: 0.6791 - val_loss: 1.0461\n",
            "Epoch 5/10\n",
            "\u001b[1m61/61\u001b[0m \u001b[32m━━━━━━━━━━━━━━━━━━━━\u001b[0m\u001b[37m\u001b[0m \u001b[1m22s\u001b[0m 364ms/step - accuracy: 0.6638 - loss: 1.0303 - val_accuracy: 0.7060 - val_loss: 0.9188\n",
            "Epoch 6/10\n",
            "\u001b[1m61/61\u001b[0m \u001b[32m━━━━━━━━━━━━━━━━━━━━\u001b[0m\u001b[37m\u001b[0m \u001b[1m40s\u001b[0m 349ms/step - accuracy: 0.7331 - loss: 0.8284 - val_accuracy: 0.7371 - val_loss: 0.8044\n",
            "Epoch 7/10\n",
            "\u001b[1m61/61\u001b[0m \u001b[32m━━━━━━━━━━━━━━━━━━━━\u001b[0m\u001b[37m\u001b[0m \u001b[1m20s\u001b[0m 329ms/step - accuracy: 0.7645 - loss: 0.6840 - val_accuracy: 0.7660 - val_loss: 0.7035\n",
            "Epoch 8/10\n",
            "\u001b[1m61/61\u001b[0m \u001b[32m━━━━━━━━━━━━━━━━━━━━\u001b[0m\u001b[37m\u001b[0m \u001b[1m21s\u001b[0m 338ms/step - accuracy: 0.8151 - loss: 0.5596 - val_accuracy: 0.7660 - val_loss: 0.7673\n",
            "Epoch 9/10\n",
            "\u001b[1m61/61\u001b[0m \u001b[32m━━━━━━━━━━━━━━━━━━━━\u001b[0m\u001b[37m\u001b[0m \u001b[1m21s\u001b[0m 350ms/step - accuracy: 0.8458 - loss: 0.4797 - val_accuracy: 0.7764 - val_loss: 0.7561\n",
            "Epoch 10/10\n",
            "\u001b[1m61/61\u001b[0m \u001b[32m━━━━━━━━━━━━━━━━━━━━\u001b[0m\u001b[37m\u001b[0m \u001b[1m41s\u001b[0m 348ms/step - accuracy: 0.8494 - loss: 0.4478 - val_accuracy: 0.7743 - val_loss: 0.7838\n"
          ]
        },
        {
          "output_type": "execute_result",
          "data": {
            "text/plain": [
              "<keras.src.callbacks.history.History at 0x7bedf5491390>"
            ]
          },
          "metadata": {},
          "execution_count": 19
        }
      ]
    },
    {
      "cell_type": "code",
      "source": [],
      "metadata": {
        "id": "fIRhakwByWzz"
      },
      "execution_count": 19,
      "outputs": []
    },
    {
      "cell_type": "code",
      "source": [
        "model.save('trained_model.h5')"
      ],
      "metadata": {
        "id": "hZPvMtXBoSvd",
        "colab": {
          "base_uri": "https://localhost:8080/"
        },
        "outputId": "c5630fbf-64cc-454c-a181-fcc0decced85"
      },
      "execution_count": 20,
      "outputs": [
        {
          "output_type": "stream",
          "name": "stderr",
          "text": [
            "WARNING:absl:You are saving your model as an HDF5 file via `model.save()` or `keras.saving.save_model(model)`. This file format is considered legacy. We recommend using instead the native Keras format, e.g. `model.save('my_model.keras')` or `keras.saving.save_model(model, 'my_model.keras')`. \n"
          ]
        }
      ]
    },
    {
      "cell_type": "code",
      "source": [
        "from google.colab import files\n",
        "files.download('trained_model.h5')"
      ],
      "metadata": {
        "id": "LFcArg6loZKT",
        "colab": {
          "base_uri": "https://localhost:8080/",
          "height": 34
        },
        "outputId": "0e577983-4d5e-4ce1-9d7b-f0ad64eba449"
      },
      "execution_count": 21,
      "outputs": [
        {
          "output_type": "display_data",
          "data": {
            "text/plain": [
              "<IPython.core.display.Javascript object>"
            ],
            "application/javascript": [
              "\n",
              "    async function download(id, filename, size) {\n",
              "      if (!google.colab.kernel.accessAllowed) {\n",
              "        return;\n",
              "      }\n",
              "      const div = document.createElement('div');\n",
              "      const label = document.createElement('label');\n",
              "      label.textContent = `Downloading \"${filename}\": `;\n",
              "      div.appendChild(label);\n",
              "      const progress = document.createElement('progress');\n",
              "      progress.max = size;\n",
              "      div.appendChild(progress);\n",
              "      document.body.appendChild(div);\n",
              "\n",
              "      const buffers = [];\n",
              "      let downloaded = 0;\n",
              "\n",
              "      const channel = await google.colab.kernel.comms.open(id);\n",
              "      // Send a message to notify the kernel that we're ready.\n",
              "      channel.send({})\n",
              "\n",
              "      for await (const message of channel.messages) {\n",
              "        // Send a message to notify the kernel that we're ready.\n",
              "        channel.send({})\n",
              "        if (message.buffers) {\n",
              "          for (const buffer of message.buffers) {\n",
              "            buffers.push(buffer);\n",
              "            downloaded += buffer.byteLength;\n",
              "            progress.value = downloaded;\n",
              "          }\n",
              "        }\n",
              "      }\n",
              "      const blob = new Blob(buffers, {type: 'application/binary'});\n",
              "      const a = document.createElement('a');\n",
              "      a.href = window.URL.createObjectURL(blob);\n",
              "      a.download = filename;\n",
              "      div.appendChild(a);\n",
              "      a.click();\n",
              "      div.remove();\n",
              "    }\n",
              "  "
            ]
          },
          "metadata": {}
        },
        {
          "output_type": "display_data",
          "data": {
            "text/plain": [
              "<IPython.core.display.Javascript object>"
            ],
            "application/javascript": [
              "download(\"download_b0273aba-ddbb-4b93-964f-52f0d561b3e3\", \"trained_model.h5\", 35794392)"
            ]
          },
          "metadata": {}
        }
      ]
    },
    {
      "cell_type": "code",
      "source": [
        "from google.colab import files\n",
        "uploaded = files.upload()"
      ],
      "metadata": {
        "id": "CxIj2jWKtfFp",
        "colab": {
          "base_uri": "https://localhost:8080/",
          "height": 73
        },
        "outputId": "9fbccc65-1959-4310-e2f8-726a8b6d2812"
      },
      "execution_count": 22,
      "outputs": [
        {
          "output_type": "display_data",
          "data": {
            "text/plain": [
              "<IPython.core.display.HTML object>"
            ],
            "text/html": [
              "\n",
              "     <input type=\"file\" id=\"files-b138bd46-8717-4ef8-9323-6f0dc4bcd887\" name=\"files[]\" multiple disabled\n",
              "        style=\"border:none\" />\n",
              "     <output id=\"result-b138bd46-8717-4ef8-9323-6f0dc4bcd887\">\n",
              "      Upload widget is only available when the cell has been executed in the\n",
              "      current browser session. Please rerun this cell to enable.\n",
              "      </output>\n",
              "      <script>// Copyright 2017 Google LLC\n",
              "//\n",
              "// Licensed under the Apache License, Version 2.0 (the \"License\");\n",
              "// you may not use this file except in compliance with the License.\n",
              "// You may obtain a copy of the License at\n",
              "//\n",
              "//      http://www.apache.org/licenses/LICENSE-2.0\n",
              "//\n",
              "// Unless required by applicable law or agreed to in writing, software\n",
              "// distributed under the License is distributed on an \"AS IS\" BASIS,\n",
              "// WITHOUT WARRANTIES OR CONDITIONS OF ANY KIND, either express or implied.\n",
              "// See the License for the specific language governing permissions and\n",
              "// limitations under the License.\n",
              "\n",
              "/**\n",
              " * @fileoverview Helpers for google.colab Python module.\n",
              " */\n",
              "(function(scope) {\n",
              "function span(text, styleAttributes = {}) {\n",
              "  const element = document.createElement('span');\n",
              "  element.textContent = text;\n",
              "  for (const key of Object.keys(styleAttributes)) {\n",
              "    element.style[key] = styleAttributes[key];\n",
              "  }\n",
              "  return element;\n",
              "}\n",
              "\n",
              "// Max number of bytes which will be uploaded at a time.\n",
              "const MAX_PAYLOAD_SIZE = 100 * 1024;\n",
              "\n",
              "function _uploadFiles(inputId, outputId) {\n",
              "  const steps = uploadFilesStep(inputId, outputId);\n",
              "  const outputElement = document.getElementById(outputId);\n",
              "  // Cache steps on the outputElement to make it available for the next call\n",
              "  // to uploadFilesContinue from Python.\n",
              "  outputElement.steps = steps;\n",
              "\n",
              "  return _uploadFilesContinue(outputId);\n",
              "}\n",
              "\n",
              "// This is roughly an async generator (not supported in the browser yet),\n",
              "// where there are multiple asynchronous steps and the Python side is going\n",
              "// to poll for completion of each step.\n",
              "// This uses a Promise to block the python side on completion of each step,\n",
              "// then passes the result of the previous step as the input to the next step.\n",
              "function _uploadFilesContinue(outputId) {\n",
              "  const outputElement = document.getElementById(outputId);\n",
              "  const steps = outputElement.steps;\n",
              "\n",
              "  const next = steps.next(outputElement.lastPromiseValue);\n",
              "  return Promise.resolve(next.value.promise).then((value) => {\n",
              "    // Cache the last promise value to make it available to the next\n",
              "    // step of the generator.\n",
              "    outputElement.lastPromiseValue = value;\n",
              "    return next.value.response;\n",
              "  });\n",
              "}\n",
              "\n",
              "/**\n",
              " * Generator function which is called between each async step of the upload\n",
              " * process.\n",
              " * @param {string} inputId Element ID of the input file picker element.\n",
              " * @param {string} outputId Element ID of the output display.\n",
              " * @return {!Iterable<!Object>} Iterable of next steps.\n",
              " */\n",
              "function* uploadFilesStep(inputId, outputId) {\n",
              "  const inputElement = document.getElementById(inputId);\n",
              "  inputElement.disabled = false;\n",
              "\n",
              "  const outputElement = document.getElementById(outputId);\n",
              "  outputElement.innerHTML = '';\n",
              "\n",
              "  const pickedPromise = new Promise((resolve) => {\n",
              "    inputElement.addEventListener('change', (e) => {\n",
              "      resolve(e.target.files);\n",
              "    });\n",
              "  });\n",
              "\n",
              "  const cancel = document.createElement('button');\n",
              "  inputElement.parentElement.appendChild(cancel);\n",
              "  cancel.textContent = 'Cancel upload';\n",
              "  const cancelPromise = new Promise((resolve) => {\n",
              "    cancel.onclick = () => {\n",
              "      resolve(null);\n",
              "    };\n",
              "  });\n",
              "\n",
              "  // Wait for the user to pick the files.\n",
              "  const files = yield {\n",
              "    promise: Promise.race([pickedPromise, cancelPromise]),\n",
              "    response: {\n",
              "      action: 'starting',\n",
              "    }\n",
              "  };\n",
              "\n",
              "  cancel.remove();\n",
              "\n",
              "  // Disable the input element since further picks are not allowed.\n",
              "  inputElement.disabled = true;\n",
              "\n",
              "  if (!files) {\n",
              "    return {\n",
              "      response: {\n",
              "        action: 'complete',\n",
              "      }\n",
              "    };\n",
              "  }\n",
              "\n",
              "  for (const file of files) {\n",
              "    const li = document.createElement('li');\n",
              "    li.append(span(file.name, {fontWeight: 'bold'}));\n",
              "    li.append(span(\n",
              "        `(${file.type || 'n/a'}) - ${file.size} bytes, ` +\n",
              "        `last modified: ${\n",
              "            file.lastModifiedDate ? file.lastModifiedDate.toLocaleDateString() :\n",
              "                                    'n/a'} - `));\n",
              "    const percent = span('0% done');\n",
              "    li.appendChild(percent);\n",
              "\n",
              "    outputElement.appendChild(li);\n",
              "\n",
              "    const fileDataPromise = new Promise((resolve) => {\n",
              "      const reader = new FileReader();\n",
              "      reader.onload = (e) => {\n",
              "        resolve(e.target.result);\n",
              "      };\n",
              "      reader.readAsArrayBuffer(file);\n",
              "    });\n",
              "    // Wait for the data to be ready.\n",
              "    let fileData = yield {\n",
              "      promise: fileDataPromise,\n",
              "      response: {\n",
              "        action: 'continue',\n",
              "      }\n",
              "    };\n",
              "\n",
              "    // Use a chunked sending to avoid message size limits. See b/62115660.\n",
              "    let position = 0;\n",
              "    do {\n",
              "      const length = Math.min(fileData.byteLength - position, MAX_PAYLOAD_SIZE);\n",
              "      const chunk = new Uint8Array(fileData, position, length);\n",
              "      position += length;\n",
              "\n",
              "      const base64 = btoa(String.fromCharCode.apply(null, chunk));\n",
              "      yield {\n",
              "        response: {\n",
              "          action: 'append',\n",
              "          file: file.name,\n",
              "          data: base64,\n",
              "        },\n",
              "      };\n",
              "\n",
              "      let percentDone = fileData.byteLength === 0 ?\n",
              "          100 :\n",
              "          Math.round((position / fileData.byteLength) * 100);\n",
              "      percent.textContent = `${percentDone}% done`;\n",
              "\n",
              "    } while (position < fileData.byteLength);\n",
              "  }\n",
              "\n",
              "  // All done.\n",
              "  yield {\n",
              "    response: {\n",
              "      action: 'complete',\n",
              "    }\n",
              "  };\n",
              "}\n",
              "\n",
              "scope.google = scope.google || {};\n",
              "scope.google.colab = scope.google.colab || {};\n",
              "scope.google.colab._files = {\n",
              "  _uploadFiles,\n",
              "  _uploadFilesContinue,\n",
              "};\n",
              "})(self);\n",
              "</script> "
            ]
          },
          "metadata": {}
        },
        {
          "output_type": "stream",
          "name": "stdout",
          "text": [
            "Saving pollen-data-set.zip to pollen-data-set (2).zip\n"
          ]
        }
      ]
    },
    {
      "cell_type": "code",
      "source": [
        "from tensorflow.keras.models import load_model\n",
        "from tensorflow.keras.preprocessing.image import load_img, img_to_array\n",
        "import numpy as np\n",
        "import matplotlib.pyplot as plt\n",
        "import cv2\n",
        "import os\n",
        "import pandas as pd # Import pandas\n",
        "\n",
        "# Define extract_dir\n",
        "extract_dir = \"MyDrive/content/pollen_dataset\"\n",
        "\n",
        "# Load the trained model\n",
        "model = load_model('trained_model.h5')\n",
        "\n",
        "# Load class_map.csv again here\n",
        "class_map_path = os.path.join(extract_dir, 'class_map.csv')\n",
        "class_map_df = pd.read_csv(class_map_path, header=None, names=['class_name', 'class_id'])\n",
        "class_map = dict(zip(class_map_df['class_id'], class_map_df['class_name']))\n",
        "\n",
        "\n",
        "# Loop through all uploaded files\n",
        "for filename in os.listdir():\n",
        "    if filename.endswith('.png') or filename.endswith('.jpg') or filename.endswith('.jpeg'):\n",
        "        print(f\"\\n📷 Analyzing: {filename}\")\n",
        "        img_path = os.path.join(os.getcwd(), filename) # Get the full path to the uploaded file\n",
        "        img_cv = cv2.imread(img_path) # Use cv2.imread for displaying\n",
        "\n",
        "        if img_cv is not None: # Check if the image was successfully loaded by cv2\n",
        "            # Ensure the image data is in a suitable format and data type for imshow\n",
        "            if isinstance(img_cv, np.ndarray) and img_cv.dtype != object:\n",
        "                 # Convert BGR to RGB for displaying with matplotlib\n",
        "                img_display = cv2.cvtColor(img_cv, cv2.COLOR_BGR2RGB)\n",
        "\n",
        "\n",
        "                img = load_img(img_path, target_size=(84, 84)) # Use load_img for model input\n",
        "                img_array = img_to_array(img) / 255.0\n",
        "                img_array = np.expand_dims(img_array, axis=0)\n",
        "\n",
        "                prediction = model.predict(img_array)\n",
        "                predicted_class_id = np.argmax(prediction)\n",
        "                # Get the class label using the class_map dictionary\n",
        "                label = class_map.get(predicted_class_id, \"Unknown Class\") # Use .get to handle potential missing keys\n",
        "                confidence = round(np.max(prediction) * 100, 2)\n",
        "\n",
        "                # Show the image with prediction\n",
        "                plt.imshow(img_display)\n",
        "                plt.axis('off')\n",
        "                plt.title(f\"{label} ({confidence}%)\")\n",
        "                plt.show()\n",
        "            else:\n",
        "                print(f\"❌ Image data for {filename} is not in a standard format.\")\n",
        "        else:\n",
        "            print(f\"❌ Could not read image: {filename}\")"
      ],
      "metadata": {
        "id": "Nfyg1Calt0MG",
        "colab": {
          "base_uri": "https://localhost:8080/"
        },
        "outputId": "46c33844-3e60-4e21-a059-30d88fa3af7c"
      },
      "execution_count": 23,
      "outputs": [
        {
          "output_type": "stream",
          "name": "stderr",
          "text": [
            "WARNING:absl:Compiled the loaded model, but the compiled metrics have yet to be built. `model.compile_metrics` will be empty until you train or evaluate the model.\n"
          ]
        }
      ]
    },
    {
      "cell_type": "code",
      "source": [
        "from tensorflow.keras.models import load_model\n",
        "from tensorflow.keras.preprocessing.image import load_img, img_to_array\n",
        "import numpy as np\n",
        "import matplotlib.pyplot as plt\n",
        "import cv2\n",
        "import os\n",
        "\n",
        "# Load your trained model\n",
        "model = load_model('trained_model.h5')\n",
        "classes = ['Anomalous', 'Alnus', 'Cuprissaceae', 'Debris', 'Normal']  # Adjust if your dataset differs\n",
        "\n",
        "# Loop through uploaded images\n",
        "image_files = [f for f in os.listdir() if f.lower().endswith(('.png', '.jpg', '.jpeg'))]\n",
        "\n",
        "for filename in image_files:\n",
        "    try:\n",
        "        # Load and preprocess image\n",
        "        img = load_img(filename, target_size=(84, 84))\n",
        "        img_array = img_to_array(img) / 255.0\n",
        "        img_array = np.expand_dims(img_array, axis=0)\n",
        "\n",
        "        # Predict\n",
        "        prediction = model.predict(img_array)\n",
        "        label = classes[np.argmax(prediction)]\n",
        "        confidence = round(np.max(prediction) * 100, 2)\n",
        "\n",
        "        # Display result\n",
        "        print(f\"\\n📷 {filename} → Prediction: {label} ({confidence}%)\")\n",
        "        plt.imshow(cv2.imread(filename)[..., ::-1])\n",
        "        plt.axis('off')\n",
        "        plt.title(f\"{label} ({confidence}%)\")\n",
        "        plt.show()\n",
        "\n",
        "    except Exception as e:\n",
        "        print(f\"⚠️ Could not process {filename}: {e}\")"
      ],
      "metadata": {
        "id": "wBNhmjDNyZPk",
        "colab": {
          "base_uri": "https://localhost:8080/"
        },
        "outputId": "9d728f11-974d-4b65-a968-66e6b5cdc706"
      },
      "execution_count": 24,
      "outputs": [
        {
          "output_type": "stream",
          "name": "stderr",
          "text": [
            "WARNING:absl:Compiled the loaded model, but the compiled metrics have yet to be built. `model.compile_metrics` will be empty until you train or evaluate the model.\n"
          ]
        }
      ]
    },
    {
      "cell_type": "code",
      "source": [
        "import pandas as pd\n",
        "from tensorflow.keras.preprocessing.image import load_img, img_to_array\n",
        "import numpy as np\n",
        "import matplotlib.pyplot as plt\n",
        "import cv2\n",
        "import os\n",
        "\n",
        "# Load your trained model\n",
        "model = load_model('trained_model.h5')\n",
        "classes = ['Anomalous', 'Alnus', 'Cuprissaceae', 'Debris', 'Normal']\n",
        "\n",
        "# List of predictions\n",
        "results = []\n",
        "\n",
        "# Predict for each image\n",
        "image_files = [f for f in os.listdir() if f.lower().endswith(('.png', '.jpg', '.jpeg'))]\n",
        "\n",
        "for filename in image_files:\n",
        "    try:\n",
        "        img = load_img(filename, target_size=(84, 84))\n",
        "        img_array = img_to_array(img) / 255.0\n",
        "        img_array = np.expand_dims(img_array, axis=0)\n",
        "\n",
        "        prediction = model.predict(img_array)\n",
        "        label = classes[np.argmax(prediction)]\n",
        "        confidence = round(np.max(prediction) * 100, 2)\n",
        "\n",
        "        # Save result\n",
        "        results.append({'Filename': filename, 'Prediction': label, 'Confidence (%)': confidence})\n",
        "\n",
        "        # Optional: Show image\n",
        "        plt.imshow(cv2.imread(filename)[..., ::-1])\n",
        "        plt.title(f\"{label} ({confidence}%)\")\n",
        "        plt.axis('off')\n",
        "        plt.show()\n",
        "\n",
        "    except Exception as e:\n",
        "        print(f\"⚠️ Could not process {filename}: {e}\")\n",
        "\n",
        "# Save results to CSV\n",
        "df = pd.DataFrame(results)\n",
        "df.to_csv(\"pollen_predictions.csv\", index=False)\n",
        "print(\"✅ Results saved to pollen_predictions.csv\")\n",
        "\n",
        "# Download CSV file\n",
        "from google.colab import files\n",
        "files.download(\"pollen_predictions.csv\")"
      ],
      "metadata": {
        "id": "GaGqY0geyvcT",
        "colab": {
          "base_uri": "https://localhost:8080/",
          "height": 89
        },
        "outputId": "78ec3644-8f63-4db6-c27c-3402ceeb53dd"
      },
      "execution_count": 25,
      "outputs": [
        {
          "output_type": "stream",
          "name": "stderr",
          "text": [
            "WARNING:absl:Compiled the loaded model, but the compiled metrics have yet to be built. `model.compile_metrics` will be empty until you train or evaluate the model.\n"
          ]
        },
        {
          "output_type": "stream",
          "name": "stdout",
          "text": [
            "✅ Results saved to pollen_predictions.csv\n"
          ]
        },
        {
          "output_type": "display_data",
          "data": {
            "text/plain": [
              "<IPython.core.display.Javascript object>"
            ],
            "application/javascript": [
              "\n",
              "    async function download(id, filename, size) {\n",
              "      if (!google.colab.kernel.accessAllowed) {\n",
              "        return;\n",
              "      }\n",
              "      const div = document.createElement('div');\n",
              "      const label = document.createElement('label');\n",
              "      label.textContent = `Downloading \"${filename}\": `;\n",
              "      div.appendChild(label);\n",
              "      const progress = document.createElement('progress');\n",
              "      progress.max = size;\n",
              "      div.appendChild(progress);\n",
              "      document.body.appendChild(div);\n",
              "\n",
              "      const buffers = [];\n",
              "      let downloaded = 0;\n",
              "\n",
              "      const channel = await google.colab.kernel.comms.open(id);\n",
              "      // Send a message to notify the kernel that we're ready.\n",
              "      channel.send({})\n",
              "\n",
              "      for await (const message of channel.messages) {\n",
              "        // Send a message to notify the kernel that we're ready.\n",
              "        channel.send({})\n",
              "        if (message.buffers) {\n",
              "          for (const buffer of message.buffers) {\n",
              "            buffers.push(buffer);\n",
              "            downloaded += buffer.byteLength;\n",
              "            progress.value = downloaded;\n",
              "          }\n",
              "        }\n",
              "      }\n",
              "      const blob = new Blob(buffers, {type: 'application/binary'});\n",
              "      const a = document.createElement('a');\n",
              "      a.href = window.URL.createObjectURL(blob);\n",
              "      a.download = filename;\n",
              "      div.appendChild(a);\n",
              "      a.click();\n",
              "      div.remove();\n",
              "    }\n",
              "  "
            ]
          },
          "metadata": {}
        },
        {
          "output_type": "display_data",
          "data": {
            "text/plain": [
              "<IPython.core.display.Javascript object>"
            ],
            "application/javascript": [
              "download(\"download_7e7cbcb6-35cd-4764-a6ef-c4eb83a9fcdd\", \"pollen_predictions.csv\", 1)"
            ]
          },
          "metadata": {}
        }
      ]
    },
    {
      "cell_type": "code",
      "source": [
        "import pandas as pd\n",
        "\n",
        "# Create and display the table\n",
        "df = pd.DataFrame(results)\n",
        "df.index += 1  # start index at 1 instead of 0\n",
        "from IPython.display import display\n",
        "display(df.style.set_caption(\"📋 Pollen Grain Classification Results\"))"
      ],
      "metadata": {
        "id": "rHAQDl6Hy_rW",
        "colab": {
          "base_uri": "https://localhost:8080/",
          "height": 86
        },
        "outputId": "a06b7ba1-37bd-47a0-9b07-d5ea2c237966"
      },
      "execution_count": 26,
      "outputs": [
        {
          "output_type": "display_data",
          "data": {
            "text/plain": [
              "<pandas.io.formats.style.Styler at 0x7beeb44eb490>"
            ],
            "text/html": [
              "<style type=\"text/css\">\n",
              "</style>\n",
              "<table id=\"T_14075\" class=\"dataframe\">\n",
              "  <caption>📋 Pollen Grain Classification Results</caption>\n",
              "  <thead>\n",
              "  </thead>\n",
              "  <tbody>\n",
              "  </tbody>\n",
              "</table>\n"
            ]
          },
          "metadata": {}
        }
      ]
    },
    {
      "cell_type": "code",
      "source": [
        "import gradio as gr\n",
        "from tensorflow.keras.preprocessing.image import load_img, img_to_array\n",
        "import numpy as np\n",
        "\n",
        "# Load model and define class labels\n",
        "model = load_model('trained_model.h5')\n",
        "classes = ['Anomalous', 'Alnus', 'Cuprissaceae', 'Debris', 'Normal']\n",
        "\n",
        "def classify_pollen(image):\n",
        "    img = image.resize((84, 84))\n",
        "    img_array = img_to_array(img) / 255.0\n",
        "    img_array = np.expand_dims(img_array, axis=0)\n",
        "\n",
        "    pred = model.predict(img_array)\n",
        "    confidences = {classes[i]: float(pred[0][i]) for i in range(len(classes))}\n",
        "    predicted_label = classes[np.argmax(pred)]\n",
        "\n",
        "    return predicted_label, confidences\n",
        "\n",
        "# Build the interface\n",
        "interface = gr.Interface(\n",
        "    fn=classify_pollen,\n",
        "    inputs=gr.Image(type=\"pil\"),\n",
        "    outputs=[\"label\", \"label\"],\n",
        "    title=\"🌼 Pollen Grain Classifier\",\n",
        "    description=\"Upload a microscopic pollen image and get its classification. Model trained on 5 types from the Pollen13K dataset.\"\n",
        ")\n",
        "\n",
        "interface.launch(debug=True)"
      ],
      "metadata": {
        "id": "DZwUybG72lVJ",
        "colab": {
          "base_uri": "https://localhost:8080/",
          "height": 663
        },
        "outputId": "ae8bc05b-4995-4d57-aa18-2ace168caf25"
      },
      "execution_count": null,
      "outputs": [
        {
          "output_type": "stream",
          "name": "stderr",
          "text": [
            "WARNING:absl:Compiled the loaded model, but the compiled metrics have yet to be built. `model.compile_metrics` will be empty until you train or evaluate the model.\n"
          ]
        },
        {
          "output_type": "stream",
          "name": "stdout",
          "text": [
            "It looks like you are running Gradio on a hosted a Jupyter notebook. For the Gradio app to work, sharing must be enabled. Automatically setting `share=True` (you can turn this off by setting `share=False` in `launch()` explicitly).\n",
            "\n",
            "Colab notebook detected. This cell will run indefinitely so that you can see errors and logs. To turn off, set debug=False in launch().\n",
            "* Running on public URL: https://9f4a1ce38409f225b3.gradio.live\n",
            "\n",
            "This share link expires in 1 week. For free permanent hosting and GPU upgrades, run `gradio deploy` from the terminal in the working directory to deploy to Hugging Face Spaces (https://huggingface.co/spaces)\n"
          ]
        },
        {
          "output_type": "display_data",
          "data": {
            "text/plain": [
              "<IPython.core.display.HTML object>"
            ],
            "text/html": [
              "<div><iframe src=\"https://9f4a1ce38409f225b3.gradio.live\" width=\"100%\" height=\"500\" allow=\"autoplay; camera; microphone; clipboard-read; clipboard-write;\" frameborder=\"0\" allowfullscreen></iframe></div>"
            ]
          },
          "metadata": {}
        }
      ]
    }
  ]
}